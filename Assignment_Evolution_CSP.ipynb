{
 "cells": [
  {
   "cell_type": "markdown",
   "id": "b9bbdc3a-3e92-4cb4-93e0-2818307d0e0f",
   "metadata": {},
   "source": [
    "# Laborarbeit Künstliche Intelligenz\n",
    "\n",
    "## Thema :  Evolutionary Computing & Constraint Satisfaction Problems\n",
    "\n",
    "### Namen der Studierenden: Michael Dehm & Tim Teller\n",
    "\n",
    "(Hinweis: Es sind Namen anzugeben und keine Matrikelnummern. Matrikelnummern werden ausschließlich bei Klausuren zur Anonymisierung verwendet)"
   ]
  },
  {
   "cell_type": "markdown",
   "id": "5265ba3d",
   "metadata": {},
   "source": [
    "# Installs"
   ]
  },
  {
   "cell_type": "code",
   "execution_count": null,
   "id": "84366489",
   "metadata": {},
   "outputs": [],
   "source": [
    "%pip install seaborn matplotlib pandas deap python-constraint ortools"
   ]
  },
  {
   "cell_type": "code",
   "execution_count": 154,
   "id": "6ee7ee7b-c97c-4bbb-b0b6-84c2d7ed5ee9",
   "metadata": {},
   "outputs": [],
   "source": [
    "import pandas as pd\n",
    "import matplotlib.pyplot as plt\n",
    "import seaborn as sns\n",
    "import json\n",
    "import numpy as np\n",
    "from collections import Counter\n",
    "import random\n",
    "from copy import deepcopy\n",
    "\n",
    "# Einlesen der Konfigurations-Datei für Ihre Aufgabe\n",
    "def load_configuration():\n",
    "    with open('configuration_003.json', 'r') as file:\n",
    "        return json.load(file)\n",
    "\n",
    "configuration = load_configuration()"
   ]
  },
  {
   "cell_type": "markdown",
   "id": "aa538165-c1d4-44ea-942e-ad17d6199616",
   "metadata": {},
   "source": [
    "#### Die Konfiguration betrachten"
   ]
  },
  {
   "cell_type": "code",
   "execution_count": null,
   "id": "38e10bee-7161-48f4-849d-c220d9412483",
   "metadata": {},
   "outputs": [],
   "source": [
    "def print_configuration(configuration):\n",
    "    \n",
    "    print(\"\\nAusführliche Konfiguration:\\n\")\n",
    "    \n",
    "    print(\"Studiengänge und Kursgruppenanzahlen:\")\n",
    "    for program, groups in configuration['study_programs'].items():\n",
    "        print(f\"- {program}: {groups} Kursgruppen\")\n",
    "    \n",
    "    print(\"\\nPrüfungswochen und zugeordnete Studiengänge:\")\n",
    "    for week, programs in configuration['exam_weeks'].items():\n",
    "        print(f\"- {week}: {', '.join(programs)}\")\n",
    "    \n",
    "    print(\"\\nZeitslots mit Beliebtheit:\")\n",
    "    for slot, details in configuration['time_slots'].items():\n",
    "        print(f\"- {slot} ({details['time']}): Beliebtheit {details['popularity']}\")\n",
    "    \n",
    "    print(\"\\nTage der Woche mit Beliebtheit:\")\n",
    "    for day, details in configuration['days'].items():\n",
    "        print(f\"- {day}: Beliebtheit {details['popularity']}\")\n",
    "    \n",
    "    print(\"\\nBeliebtheit von Raumzuteilungen:\")\n",
    "    print(f\"- Parallel zugeteilte Räume: Beliebtheit {configuration['room_popularity']['parallel']}\")\n",
    "    print(f\"- Zeitlich hintereinander zugeteilte Räume: Beliebtheit {configuration['room_popularity']['sequential']}\")\n"
   ]
  },
  {
   "cell_type": "code",
   "execution_count": null,
   "id": "f83fd88e-f26c-44c4-9cfd-ef01e7b829b3",
   "metadata": {},
   "outputs": [],
   "source": [
    "print_configuration(configuration)"
   ]
  },
  {
   "cell_type": "markdown",
   "id": "fa410508-63be-493d-b647-8c3ecbd94734",
   "metadata": {},
   "source": [
    "Die hier angegebenen Beliebtheitswerte fließen in die Bewertungsfunktion ein, die von Ihnen noch anzupassen ist."
   ]
  },
  {
   "cell_type": "code",
   "execution_count": 149,
   "id": "fb2c1966-3379-4b86-b417-3ede92dfcd8b",
   "metadata": {},
   "outputs": [],
   "source": [
    "# Nur als Beispiel und zur Veranschaulichung ... zufällige Zuteilung generieren\n",
    "import random\n",
    "\n",
    "\n",
    "def random_assign_timeslots(week_number, configuration):\n",
    "    study_programs = configuration['exam_weeks'].get(f\"Week {week_number}\", [])\n",
    "    \n",
    "    # Struktur für die Zuteilung: Dict of days containing list of slots each with two rooms\n",
    "    schedule = {day: {slot: [None, None] for slot in configuration['time_slots']} for day in configuration['days']}\n",
    "    \n",
    "    # Erstelle eine Liste aller Zeit-Slot Kombinationen für eine Woche\n",
    "    time_slot_combinations = [(day, slot) for day in schedule for slot in schedule[day]]\n",
    "    \n",
    "    # Verteile die Studiengänge zufällig, bis alle Slots gefüllt sind\n",
    "    for (day, slot) in time_slot_combinations:\n",
    "        for i in range(2):  # Zwei Räume pro Slot\n",
    "            program = random.choice(study_programs)\n",
    "            schedule[day][slot][i] = program\n",
    "    \n",
    "    return schedule\n",
    "\n",
    "def print_schedule(schedule):\n",
    "    days = list(schedule.keys())\n",
    "    slots = list(schedule[days[0]].keys())\n",
    "    \n",
    "    # Erste Zeile: Tage der Woche\n",
    "    day_line = \"Zeit / Tage  \" + \"\".join([f\"{day:^20}\" for day in days])\n",
    "    \n",
    "    # Zweite Zeile: Räume unter jedem Tag anzeigen\n",
    "    room_line = \" \" * 12 + \"\".join([f\"{'R1':^10}{'R2':^10}\" for _ in days])\n",
    "    \n",
    "    line_length = len(day_line)\n",
    "    line = \"-\" * line_length\n",
    "    \n",
    "    print(line)\n",
    "    print(day_line)\n",
    "    print(room_line)\n",
    "    print(line)\n",
    "\n",
    "    for slot in slots:\n",
    "        print(f\"{slot:^10} \", end=\"\")\n",
    "        for day in days:\n",
    "            rooms = schedule[day][slot]\n",
    "            r1, r2 = rooms[0], rooms[1]\n",
    "            print(f\"{r1:^10}{r2:^10}\", end=\"\")\n",
    "        print()\n",
    "    print(line)\n",
    "\n"
   ]
  },
  {
   "cell_type": "code",
   "execution_count": null,
   "id": "4bebcb16-44c3-421d-9958-b5b6ec4a5e46",
   "metadata": {},
   "outputs": [],
   "source": [
    "# Beispiel für Verwendung\n",
    "\n",
    "week_number = 2  # Zum Beispiel die erste Prüfungswoche\n",
    "schedule = random_assign_timeslots(week_number, configuration)\n",
    "print(schedule)\n",
    "print_schedule(schedule)"
   ]
  },
  {
   "cell_type": "markdown",
   "id": "5a0ef810-9c08-44c3-ac55-ddfc2c9f7c98",
   "metadata": {},
   "source": [
    "## Aufgabenteil 1: Evolutionary Computing\n",
    "\n",
    "Entwerfen Sie ein KI Modell auf Basis des Evolutionary Computing und setzen\n",
    "Sie dieses als Jupyter Notebook um. Insbesondere werden eine geeignete Repräsentation\n",
    "sowie eine geeignete Fitness-Funktion benötigt."
   ]
  },
  {
   "cell_type": "code",
   "execution_count": null,
   "id": "91ea47db-8496-4f6e-842a-3599196074a4",
   "metadata": {},
   "outputs": [],
   "source": [
    "\n",
    "from deap import algorithms, base, creator, tools"
   ]
  },
  {
   "cell_type": "markdown",
   "id": "bfbe3e4a-527f-4ca9-9346-674ba0ec380c",
   "metadata": {},
   "source": [
    "### 1. Modell anlegen\n",
    "\n",
    "- Individuenformat festlegen\n",
    "- Fitnessfunktion festlegen\n",
    "- Mutation und Crossover geeignet wählen\n",
    "- ... weitere Parameter"
   ]
  },
  {
   "cell_type": "code",
   "execution_count": null,
   "id": "2b4fbf8a-c340-4c3d-8978-69eb180c15c2",
   "metadata": {},
   "outputs": [
    {
     "name": "stdout",
     "output_type": "stream",
     "text": [
      "{'Monday': {'Slot A': ['MB', 'MB'], 'Slot B': ['MT', 'ET'], 'Slot C': ['MT', 'ET'], 'Slot D': ['ES', 'INF']}, 'Tuesday': {'Slot A': ['INF', 'ES'], 'Slot B': ['ES', 'MT'], 'Slot C': ['MT', 'MB'], 'Slot D': ['ES', 'ES']}, 'Wednesday': {'Slot A': ['MT', 'WIW'], 'Slot B': ['ES', 'WIW'], 'Slot C': ['ET', 'ES'], 'Slot D': ['WIW', 'INF']}, 'Thursday': {'Slot A': ['MT', 'ET'], 'Slot B': ['ET', 'INF'], 'Slot C': ['INF', 'ET'], 'Slot D': ['ES', 'INF']}, 'Friday': {'Slot A': ['WIW', 'MT'], 'Slot B': ['WIW', 'MB'], 'Slot C': ['ET', 'MT'], 'Slot D': ['ET', 'INF']}}\n",
      "-----------------------------------------------------------------------------------------------------------------\n",
      "Zeit / Tage         Monday             Tuesday            Wednesday            Thursday             Friday       \n",
      "                R1        R2        R1        R2        R1        R2        R1        R2        R1        R2    \n",
      "-----------------------------------------------------------------------------------------------------------------\n",
      "  Slot A       MB        MB       INF        ES        MT       WIW        MT        ET       WIW        MT    \n",
      "  Slot B       MT        ET        ES        MT        ES       WIW        ET       INF       WIW        MB    \n",
      "  Slot C       MT        ET        MT        MB        ET        ES       INF        ET        ET        MT    \n",
      "  Slot D       ES       INF        ES        ES       WIW       INF        ES       INF        ET       INF    \n",
      "-----------------------------------------------------------------------------------------------------------------\n"
     ]
    },
    {
     "data": {
      "image/png": "[encoded data removed]",
      "text/plain": [
       "<Figure size 640x480 with 1 Axes>"
      ]
     },
     "metadata": {},
     "output_type": "display_data"
    }
   ],
   "source": [
    "# Individuum definieren\n",
    "# Ihr Code \n",
    "\n",
    "print(schedule)\n",
    "print_schedule(schedule)\n",
    "\n",
    "def clac_unfairness(scores_by_study_program):\n",
    "    vals = list(scores_by_study_program.values())\n",
    "    var = np.var(vals)\n",
    "    return var\n",
    "\n",
    "def calc_fittnes(schedule,week_number,configuration):\n",
    "    day_num = len(configuration['days'])\n",
    "    room_num = 2\n",
    "    slot_num = len(configuration['time_slots'])\n",
    "    total_slots = day_num*room_num*slot_num\n",
    "\n",
    "    programs_this_week = configuration['exam_weeks'][f'Week {week_number}']\n",
    "    courses_per_program = configuration['study_programs']\n",
    "\n",
    "    total_courses = 0\n",
    "    for study_program in programs_this_week:\n",
    "        total_courses += courses_per_program[study_program]\n",
    "    \n",
    "    proportional_slots = {}\n",
    "    for study_program in programs_this_week:\n",
    "        proportional_slots[study_program] = courses_per_program[study_program]/total_courses * total_slots\n",
    "    \n",
    "    all_values = []\n",
    "    for day_slots in schedule.values():\n",
    "        for slot in day_slots.values():\n",
    "            all_values.extend(slot)\n",
    "\n",
    "    count = Counter(all_values)\n",
    "    actual_slots = dict(count)\n",
    "\n",
    "    unproportional_slots_penalty = 0\n",
    "    for study_program in actual_slots:\n",
    "        unproportional_slots_penalty += np.abs(actual_slots[study_program]-proportional_slots[study_program])*10\n",
    "    \n",
    "    parallel_popularity_scores_by_study_program = {}\n",
    "    consecutive_popularity_scores_by_study_program = {}\n",
    "    day_popularity_scores_by_study_program = {}\n",
    "    slot_popularity_scores_by_study_program = {}\n",
    "    for study_program in programs_this_week:\n",
    "        parallel_popularity_scores_by_study_program[study_program] = 0\n",
    "        consecutive_popularity_scores_by_study_program[study_program] = 0\n",
    "        day_popularity_scores_by_study_program[study_program] = 0\n",
    "        slot_popularity_scores_by_study_program[study_program] = 0\n",
    "\n",
    "    big_course_parallel_popularity = configuration['room_popularity']['parallel']\n",
    "    for day in schedule:\n",
    "        for slot in schedule[day]:\n",
    "            parallel_rooms_by_study_program = Counter(schedule[day][slot])\n",
    "            for study_program in dict(parallel_rooms_by_study_program):\n",
    "                if courses_per_program[study_program] > 1 and parallel_rooms_by_study_program[study_program] > 1:\n",
    "                    parallel_popularity_scores_by_study_program[study_program] += big_course_parallel_popularity\n",
    "\n",
    "    course_consecutive_popularity = configuration['room_popularity']['sequential']\n",
    "    for day in schedule:\n",
    "        for i in range(1,len(schedule[day])):\n",
    "            prev_key = list(schedule[day])[i-1]\n",
    "            key = list(schedule[day])[i]\n",
    "            prev_slot = schedule[day][prev_key]\n",
    "            slot = schedule[day][key]\n",
    "            for k in range(0,room_num):\n",
    "                if(slot[k] in prev_slot):\n",
    "                    consecutive_popularity_scores_by_study_program[slot[k]] += course_consecutive_popularity\n",
    "    \n",
    "    for day in schedule:\n",
    "        for slot in schedule[day]:\n",
    "            for study_program in schedule[day][slot]:\n",
    "                day_popularity = configuration['days'][day]['popularity']\n",
    "                slot_popularity = configuration['time_slots'][slot]['popularity']\n",
    "                day_popularity_scores_by_study_program[study_program] += day_popularity\n",
    "                slot_popularity_scores_by_study_program[study_program] += slot_popularity\n",
    "\n",
    "\n",
    "    for study_program in courses_per_program:\n",
    "        parallel_popularity_scores_by_study_program[study_program] /= courses_per_program[study_program]\n",
    "        consecutive_popularity_scores_by_study_program[study_program] /= courses_per_program[study_program]\n",
    "        day_popularity_scores_by_study_program[study_program] /= courses_per_program[study_program]\n",
    "        slot_popularity_scores_by_study_program[study_program] /= courses_per_program[study_program]\n",
    "\n",
    "    # delete score for study_programs with only one course, so the unfairnes score is not negativly impacted\n",
    "    for study_program in programs_this_week:\n",
    "        if courses_per_program[study_program] <= 1:\n",
    "            del parallel_popularity_scores_by_study_program[study_program]\n",
    "\n",
    "    # print(parallel_popularity_scores_by_study_program)\n",
    "    # print(consecutive_popularity_scores_by_study_program)\n",
    "    # print(day_popularity_scores_by_study_program)\n",
    "    # print(slot_popularity_scores_by_study_program)\n",
    "    \n",
    "    unfairness_parallel_popularity_scores = clac_unfairness(parallel_popularity_scores_by_study_program)\n",
    "    unfairness_consecutive_popularity_scores = clac_unfairness(consecutive_popularity_scores_by_study_program)\n",
    "    unfairness_day_popularity_scores = clac_unfairness(day_popularity_scores_by_study_program)\n",
    "    unfairness_slot_popularity_scores = clac_unfairness(slot_popularity_scores_by_study_program)\n",
    "\n",
    "    # print(unfairness_parallel_popularity_scores)\n",
    "    # print(unfairness_consecutive_popularity_scores)\n",
    "    # print(unfairness_day_popularity_scores)\n",
    "    # print(unfairness_slot_popularity_scores)\n",
    "\n",
    "\n",
    "    parallel_popularity_score_total = sum(list(parallel_popularity_scores_by_study_program.values()))\n",
    "    consecutive_popularity_score_total = sum(list(consecutive_popularity_scores_by_study_program.values()))\n",
    "    day_popularity_score_total = sum(list(day_popularity_scores_by_study_program.values()))\n",
    "    slot_popularity_score_total = sum(list(slot_popularity_scores_by_study_program.values()))\n",
    "\n",
    "    total_score     =   parallel_popularity_score_total \\\n",
    "                    +   consecutive_popularity_score_total \\\n",
    "                    +   day_popularity_score_total \\\n",
    "                    +   slot_popularity_score_total \\\n",
    "                    -   unfairness_parallel_popularity_scores \\\n",
    "                    -   unfairness_consecutive_popularity_scores \\\n",
    "                    -   unfairness_day_popularity_scores \\\n",
    "                    -   unfairness_slot_popularity_scores \\\n",
    "                    -   unproportional_slots_penalty\n",
    "    #TODO:          -   PENALTY_FOR_LATE_EARY_SLOTS\n",
    "    #TODO:          -   PENALTY_FOR_NOT_A_SLOT_EVERY_DAY\n",
    "    # print(total_score)\n",
    "    return total_score\n",
    "\n",
    "# print(schedule)\n",
    "\n",
    "\n",
    "\n",
    "def mutate_schedule(schedule, mutation_probability=0.2):\n",
    "    room_num = 2\n",
    "    new_schedule = deepcopy(schedule)\n",
    "    all_positions = [\n",
    "        (day, slot, room)\n",
    "        for day in new_schedule\n",
    "        for slot in new_schedule[day]\n",
    "        for room in range(room_num)\n",
    "    ]\n",
    "\n",
    "    if random.random() < mutation_probability:\n",
    "        pos1, pos2 = random.sample(all_positions, 2)\n",
    "\n",
    "        d1, s1, r1 = pos1\n",
    "        d2, s2, r2 = pos2\n",
    "\n",
    "        # Swap\n",
    "        new_schedule[d1][s1][r1], new_schedule[d2][s2][r2] = \\\n",
    "            new_schedule[d2][s2][r2], new_schedule[d1][s1][r1]\n",
    "\n",
    "    return new_schedule\n",
    "\n",
    "def crossover_schedules(parent1, parent2):\n",
    "    child1 = deepcopy(parent1)\n",
    "    child2 = deepcopy(parent2)\n",
    "\n",
    "    days = list(parent1.keys())\n",
    "    crossover_day = random.choice(days)\n",
    "\n",
    "    # Austausch ab crossover_day\n",
    "    switch = False\n",
    "    for day in days:\n",
    "        if day == crossover_day:\n",
    "            switch = True\n",
    "        if switch:\n",
    "            child1[day], child2[day] = deepcopy(parent2[day]), deepcopy(parent1[day])\n",
    "\n",
    "    return child1, child2\n",
    "\n",
    "generations_range = range(0,100)\n",
    "best_scores = []\n",
    "popilation_size = 100\n",
    "population = []\n",
    "population_scores = []\n",
    "week_number = 2  # Zum Beispiel die erste Prüfungswoche\n",
    "for i in range(0,popilation_size):\n",
    "    schedule = random_assign_timeslots(week_number, configuration)\n",
    "    population.append(schedule)\n",
    "    population_scores.append(calc_fittnes(schedule,week_number,configuration))\n",
    "\n",
    "\n",
    "\n",
    "best_schedule = None\n",
    "for i in generations_range:\n",
    "    # Population nach Fitness sortieren\n",
    "    sorted_population = [x for _, x in sorted(zip(population_scores, population), key=lambda pair: pair[0], reverse=True)]\n",
    "    top_half = sorted_population[:popilation_size // 2]\n",
    "\n",
    "    # Neue Population durch Crossover\n",
    "    new_population = []\n",
    "    while len(new_population) < popilation_size // 2:\n",
    "        parent1, parent2 = random.sample(top_half, 2)\n",
    "        child1, child2 = crossover_schedules(parent1, parent2)\n",
    "        new_population.append(child1)\n",
    "        if len(new_population) < popilation_size // 2:\n",
    "            new_population.append(child2)\n",
    "\n",
    "    # Neue Gesamtpopulation und zugehörige Fitness\n",
    "    population = top_half + new_population\n",
    "    population_scores = [calc_fittnes(ind, week_number, configuration) for ind in population]\n",
    "\n",
    "    best_scores.append(min(population_scores))\n",
    "    best_schedule = sorted_population[0]\n",
    "\n",
    "\n",
    "plt.scatter(generations_range,best_scores)\n",
    "plt.show()\n",
    "\n",
    "print(best_schedule)"
   ]
  },
  {
   "cell_type": "markdown",
   "id": "308dbd44-8027-4c9d-aee7-250f3055685a",
   "metadata": {},
   "source": [
    "#### Erläuterung / Begründung zur Modellierung von Individuen\n",
    "\n",
    "<...Ihr Text ...>"
   ]
  },
  {
   "cell_type": "code",
   "execution_count": null,
   "id": "24d5a15b-9f16-401b-99f8-b49e5186c854",
   "metadata": {},
   "outputs": [],
   "source": [
    "# Fitnessfunktion definieren\n",
    "# Ihr Code\n",
    "\n"
   ]
  },
  {
   "cell_type": "markdown",
   "id": "4a97de92-b19f-43e5-aea1-285970f8229c",
   "metadata": {},
   "source": [
    "#### Erläuterung / Begründung zur Fitnessfunktion\n",
    "\n",
    "<...Ihr Text ...>"
   ]
  },
  {
   "cell_type": "code",
   "execution_count": null,
   "id": "fad5b58e-8b6f-4ef6-83ae-c2903fba2a63",
   "metadata": {},
   "outputs": [],
   "source": [
    "\n",
    "# Modell ersetzen durch eigenes für diese Aufgabe\n",
    "\n",
    "# Erstelle die Basisobjekte für DEAP\n",
    "\n",
    "creator.create(\"FitnessMax\", base.Fitness, weights=(1.0,))\n",
    "creator.create(\"Individual\", list, fitness=creator.FitnessMax)\n",
    "\n",
    "toolbox = base.Toolbox()\n",
    "toolbox.register(\"attr_int\", random.randint, 0, 100)  # Erzeuge zufällige Integer zwischen 1 und 10\n",
    "toolbox.register(\"individual\", tools.initRepeat, creator.Individual, \n",
    "                 toolbox.attr_int, n=4)  # Erzeuge ein Individuum mit 4 Integern\n",
    "toolbox.register(\"population\", tools.initRepeat, list, toolbox.individual)\n",
    "\n",
    "toolbox.register(\"evaluate\", evaluate) # Ihre zentrale Stelle ..."
   ]
  },
  {
   "cell_type": "markdown",
   "id": "f22f0073-c695-40e0-a115-ed04f0b59e79",
   "metadata": {},
   "source": [
    "Ein Beispiel wie ausgewertet werden kann. Die Bewertung einer Verletzung der proportionalen Raumzuteilung ist mit -10 festgesetzt (nicht ändern)."
   ]
  },
  {
   "cell_type": "code",
   "execution_count": null,
   "id": "d10d4801-66f7-46d4-ae61-f5af6c5ec540",
   "metadata": {},
   "outputs": [],
   "source": [
    "def count_slots(schedule):\n",
    "    slot_count = {}\n",
    "    \n",
    "    for day, slots in schedule.items():\n",
    "        for slot, rooms in slots.items():\n",
    "            for program in rooms:\n",
    "                if program not in slot_count:\n",
    "                    slot_count[program] = 0\n",
    "                slot_count[program] += 1\n",
    "    \n",
    "    return slot_count\n",
    "\n",
    "def calculate_slot_allocation(week_number, configuration):\n",
    "    study_programs = configuration['exam_weeks'].get(f\"Week {week_number}\", [])\n",
    "    total_courses = sum(configuration['study_programs'][program] for program in study_programs)\n",
    "    \n",
    "    # Berechne die proportionalen Slots\n",
    "    slot_allocation = {}\n",
    "    for program in study_programs:\n",
    "        num_courses = configuration['study_programs'][program]\n",
    "        slot_allocation[program] = round((num_courses / total_courses) * 40)\n",
    "    return slot_allocation\n",
    "    \n",
    "def evaluate_schedule(schedule, configuration):\n",
    "    # Bewertung basierend auf der Popularität der Slots und Tage\n",
    "    slot_popularity = configuration['time_slots']\n",
    "    day_popularity = configuration['days']\n",
    "    \n",
    "    score = 0\n",
    "    for day, slots in schedule.items():\n",
    "        day_score = day_popularity[day]['popularity']\n",
    "        for slot, rooms in slots.items():\n",
    "            slot_score = slot_popularity[slot]['popularity']\n",
    "            # Addiere die Beliebtheitswerte jedes belegten Slots\n",
    "            if all(rooms):  # Nur wenn beide Slots belegt sind\n",
    "                score += (day_score + slot_score)\n",
    "    \n",
    "    return score\n",
    "# Zähle die Slots, die den Studiengängen zugewiesen wurden\n",
    "slot_counts = count_slots(schedule)\n",
    "print(\"Slot-Zuweisung pro Studiengang:\", slot_counts)\n",
    "\n",
    "# Berechne die proportionalen Slot-Zuteilungen\n",
    "slot_allocations = calculate_slot_allocation(week_number, configuration)\n",
    "print(\"Proportionale Slot-Zuteilung pro Studiengang:\", slot_allocations)\n",
    "\n",
    "# Bewertungsfunktion\n",
    "schedule_score = evaluate_schedule(schedule, configuration)\n",
    "print(\"Bewertung des Zeitplans:\", schedule_score)\n",
    "\n",
    "def calculate_differences_and_penalty(slot_counts, slot_allocations):\n",
    "    differences = {}\n",
    "    total_penalty = 0\n",
    "    \n",
    "    for program in slot_allocations:\n",
    "        allocated_slots = slot_allocations.get(program, 0)\n",
    "        counted_slots = slot_counts.get(program, 0)\n",
    "        \n",
    "        difference = counted_slots - allocated_slots\n",
    "        differences[program] = difference\n",
    "        \n",
    "        # Berechne die Strafe basierend auf der Abweichung\n",
    "        penalty = abs(difference) * -10\n",
    "        total_penalty += penalty\n",
    "    \n",
    "    return differences, total_penalty\n",
    "    \n",
    "# Berechnungen durchführen\n",
    "slot_counts = count_slots(schedule)\n",
    "slot_allocations = calculate_slot_allocation(week_number, configuration)\n",
    "\n",
    "# Abweichungen und Strafen berechnen\n",
    "differences, total_penalty = calculate_differences_and_penalty(slot_counts, slot_allocations)\n",
    "\n",
    "# Ausgabe\n",
    "print(\"Abweichungen pro Studiengang:\", differences)\n",
    "print(\"Gesamtstrafen:\", total_penalty)\n",
    "print(\"Gesamtbewertung:\", total_penalty+schedule_score)"
   ]
  },
  {
   "cell_type": "code",
   "execution_count": null,
   "id": "6d6e47b1-bc79-436c-ae1f-1957908955ae",
   "metadata": {},
   "outputs": [],
   "source": [
    "# Population wählen "
   ]
  },
  {
   "cell_type": "markdown",
   "id": "d9223529-44cf-401a-b885-4495e6c5cca2",
   "metadata": {},
   "source": [
    "### Begründung zum Modell\n",
    "\n",
    "<...Ihr Text...>"
   ]
  },
  {
   "cell_type": "markdown",
   "id": "51deb261-99d5-460b-a3f4-25d63c188c21",
   "metadata": {},
   "source": [
    "### 2. Test und Bewertung \n",
    "\n",
    "Testen Sie die Funktionsweise Ihres Modells und diskutieren Sie die Ergebnisse."
   ]
  },
  {
   "cell_type": "code",
   "execution_count": null,
   "id": "865cedbb-56b0-4f39-aab2-d074749a4447",
   "metadata": {},
   "outputs": [],
   "source": [
    "# Ihr Code\n",
    "\n"
   ]
  },
  {
   "cell_type": "markdown",
   "id": "888b2521-2053-44cb-9d71-7609afc619f4",
   "metadata": {},
   "source": [
    "### Diskussion der Ergebnisse \n",
    "\n",
    "<...Ihr Text...>"
   ]
  },
  {
   "cell_type": "markdown",
   "id": "61da6d54-f2e9-4a24-b8ec-fd8f1d406300",
   "metadata": {},
   "source": [
    "## Aufgabenteil 2: Constraint Satisfaction Problems\n",
    "\n",
    "Entwerfen Sie ein KI Modell auf Basis von Constraints und setzen Sie dieses als\n",
    "Jupyter Notebook um. Wählen Sie geeignete Constraints."
   ]
  },
  {
   "cell_type": "code",
   "execution_count": null,
   "id": "15603e4b-ac95-4e26-801b-218bd08703de",
   "metadata": {},
   "outputs": [],
   "source": [
    "from constraint import *\n",
    "# from ortools.sat.python import cp_model    # Alternative Library (schneller)"
   ]
  },
  {
   "cell_type": "code",
   "execution_count": null,
   "id": "20ca95e1-988d-4dd8-a40c-9e8c0c49df8a",
   "metadata": {},
   "outputs": [],
   "source": []
  },
  {
   "cell_type": "raw",
   "id": "7ad88bf4-1791-4004-9234-e3dd4eb34b99",
   "metadata": {},
   "source": []
  },
  {
   "cell_type": "markdown",
   "id": "3036b50e-cb0e-4fb5-b3fd-6a5e796a4eb4",
   "metadata": {},
   "source": [
    "### 1. Variablen bestimmen \n",
    "\n",
    "... und ihre Wertebereiche!"
   ]
  },
  {
   "cell_type": "code",
   "execution_count": null,
   "id": "082e6b3c-5a45-461a-b73e-9377d6293830",
   "metadata": {},
   "outputs": [],
   "source": [
    "# Beispiel - hier soll Ihr Code eingefügt werden\n",
    "\n",
    "\n",
    "#Variablen definieren und Wertebereiche festlegen\n",
    "csp.addVariable(\"A\", [i for i in range(0,25+1)])\n",
    "csp.addVariable(\"B\", [i for i in range(0,100+1)])\n",
    "csp.addVariable(\"C\", [i for i in range(0,20+1)])\n",
    "csp.addVariable(\"D\", [i for i in range(0,10+1)])\n",
    "\n",
    "# am Schluss kurz alle Kombinationen ausgeben (zur Kontrolle)\n",
    "\n",
    "csp.getSolutions()"
   ]
  },
  {
   "cell_type": "markdown",
   "id": "751f9878-6015-4d63-b6de-2ee761238276",
   "metadata": {},
   "source": [
    "### Begründung zur Wahl der Variablen\n",
    "\n",
    "<...Ihr Text...>"
   ]
  },
  {
   "cell_type": "markdown",
   "id": "b528963d-87af-45c1-b6a4-869b4566d4cf",
   "metadata": {},
   "source": [
    "### 2. Constraints bestimmen\n",
    "\n",
    "Hier liegt sicher die Hauptaufgabe. Zur Umsetzung als CSP ist ein geeigneter Fairnessrahmen als Grenzwert anzugeben (und als Constraint umzusetzen)"
   ]
  },
  {
   "cell_type": "code",
   "execution_count": null,
   "id": "b839035b-5aab-473f-b418-0747a91a78f0",
   "metadata": {},
   "outputs": [],
   "source": [
    "# Beispiel aus dem Übungslabor - durch eigene Lösung zu ersetzen\n",
    "\n",
    "\n",
    "def volumenlimit(a,b,c,d):\n",
    "    return (a * 100 + b * 50 +c * 70 + d * 25 < 2500)\n",
    "    \n",
    "    \n",
    "csp.addConstraint(volumenlimit, [\"A\",\"B\",\"C\",\"D\"])\n",
    "    \n",
    "# Gewichtslimit 2800\n",
    "\n",
    "def gewichtslimit(a,b,c,d):\n",
    "    return (a * 120 + b * 175 +c * 140 + d * 100 < 2800)\n",
    "\n",
    "csp.addConstraint(gewichtslimit, [\"A\",\"B\",\"C\",\"D\"])"
   ]
  },
  {
   "cell_type": "markdown",
   "id": "98c29e7c-3f61-447f-a10b-4dedad692eb1",
   "metadata": {},
   "source": [
    "### Begründungen \n",
    "\n",
    "<...Ihr Text...>"
   ]
  },
  {
   "cell_type": "markdown",
   "id": "f6fdfb8b-a06b-4a97-bd0d-6fa27116f62c",
   "metadata": {},
   "source": [
    "### 3. Test und Bewertung\n",
    "\n",
    "Wie gut ist die Lösung? Prüfen Sie Ihre Konfiguration (u.a. abhängig von Constraint und Variablenwahl) und testen Sie geeignet. "
   ]
  },
  {
   "cell_type": "code",
   "execution_count": null,
   "id": "abc179c7-40f5-4678-a290-478319aa887b",
   "metadata": {},
   "outputs": [],
   "source": [
    "# Ihr Code\n"
   ]
  },
  {
   "cell_type": "markdown",
   "id": "af7cc565-b829-470c-b68e-3c74621b9191",
   "metadata": {},
   "source": [
    "### Diskussion der Ergebnisse \n",
    "\n",
    "<...Ihr Text...>"
   ]
  },
  {
   "cell_type": "markdown",
   "id": "00a7dbee-a08e-41e6-9665-bf2cd2a7b8e2",
   "metadata": {},
   "source": [
    "# Abschluss\n",
    "\n",
    "Vergleich der beiden Verfahren. Ggf. ist hier noch Code zum Vergleich zu ergänzen, ansonsten weitgehend durch Text."
   ]
  },
  {
   "cell_type": "markdown",
   "id": "08ca89af-081e-47ea-be6a-d4aef52bf6ea",
   "metadata": {},
   "source": [
    "<...Ihr Text...>"
   ]
  }
 ],
 "metadata": {
  "kernelspec": {
   "display_name": ".venv",
   "language": "python",
   "name": "python3"
  },
  "language_info": {
   "codemirror_mode": {
    "name": "ipython",
    "version": 3
   },
   "file_extension": ".py",
   "mimetype": "text/x-python",
   "name": "python",
   "nbconvert_exporter": "python",
   "pygments_lexer": "ipython3",
   "version": "3.11.5"
  }
 },
 "nbformat": 4,
 "nbformat_minor": 5
}
